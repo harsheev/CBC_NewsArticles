{
  "nbformat": 4,
  "nbformat_minor": 0,
  "metadata": {
    "colab": {
      "name": "Creating_models.ipynb",
      "provenance": [],
      "collapsed_sections": [],
      "authorship_tag": "ABX9TyPZw9YB1VkDK0Fvk1jHxnSm",
      "include_colab_link": true
    },
    "kernelspec": {
      "name": "python3",
      "display_name": "Python 3"
    }
  },
  "cells": [
    {
      "cell_type": "markdown",
      "metadata": {
        "id": "view-in-github",
        "colab_type": "text"
      },
      "source": [
        "<a href=\"https://colab.research.google.com/github/harsheev/CBC_NewsArticles/blob/master/Creating_models.ipynb\" target=\"_parent\"><img src=\"https://colab.research.google.com/assets/colab-badge.svg\" alt=\"Open In Colab\"/></a>"
      ]
    },
    {
      "cell_type": "markdown",
      "metadata": {
        "id": "9X06l4MaJ7V5",
        "colab_type": "text"
      },
      "source": [
        "# **This notebook goes over creating LDA models with different number of topics and chossinf the best model based on C_v coherence**"
      ]
    },
    {
      "cell_type": "code",
      "metadata": {
        "id": "V0r_dug8gS9C",
        "colab_type": "code",
        "cellView": "form",
        "colab": {
          "base_uri": "https://localhost:8080/",
          "height": 139
        },
        "outputId": "717a6d98-981b-4aae-b7a2-a732819e7738"
      },
      "source": [
        "#@title Set up Directory { run: \"auto\"}\n",
        "import os\n",
        "from IPython.display import clear_output\n",
        "from google.colab import drive \n",
        "from IPython.display import clear_output\n",
        "drive.mount('/content/gdrive')\n",
        "working_directory = 'My Drive/LDA_CBC_NewsArticles' #@param {type:\"string\"}\n",
        "wd=\"/content/gdrive/\"+working_directory\n",
        "os.chdir(wd)\n",
        "\n",
        "dirpath = os.getcwd()\n",
        "print(\"current directory is : \" + dirpath)"
      ],
      "execution_count": 1,
      "outputs": [
        {
          "output_type": "stream",
          "text": [
            "Go to this URL in a browser: https://accounts.google.com/o/oauth2/auth?client_id=947318989803-6bn6qk8qdgf4n4g3pfee6491hc0brc4i.apps.googleusercontent.com&redirect_uri=urn%3aietf%3awg%3aoauth%3a2.0%3aoob&response_type=code&scope=email%20https%3a%2f%2fwww.googleapis.com%2fauth%2fdocs.test%20https%3a%2f%2fwww.googleapis.com%2fauth%2fdrive%20https%3a%2f%2fwww.googleapis.com%2fauth%2fdrive.photos.readonly%20https%3a%2f%2fwww.googleapis.com%2fauth%2fpeopleapi.readonly\n",
            "\n",
            "Enter your authorization code:\n",
            "··········\n",
            "Mounted at /content/gdrive\n",
            "current directory is : /content/gdrive/My Drive/LDA_CBC_NewsArticles\n"
          ],
          "name": "stdout"
        }
      ]
    },
    {
      "cell_type": "code",
      "metadata": {
        "id": "R5k6p66CgiSy",
        "colab_type": "code",
        "colab": {}
      },
      "source": [
        "import gensim\n",
        "from gensim.utils import simple_preprocess\n",
        "from gensim.models import CoherenceModel\n",
        "\n",
        "import pickle\n",
        "\n",
        "from gensim.models.coherencemodel import CoherenceModel\n",
        "\n",
        "import matplotlib.pyplot as plt\n",
        "\n",
        "dictionary = gensim.corpora.Dictionary.load('dictionary.gensim')\n",
        "corpus = pickle.load(open('corpus.pkl', 'rb'))\n",
        "text = pickle.load(open('text_data.pkl', 'rb'))"
      ],
      "execution_count": null,
      "outputs": []
    },
    {
      "cell_type": "code",
      "metadata": {
        "id": "CHZG3lqagiQI",
        "colab_type": "code",
        "colab": {}
      },
      "source": [
        "#creating different models with random number of topics (no pattern)\n",
        "topic_sizes=[3,5,10,15,25,30]\n",
        "for i in topic_sizes:\n",
        "  num_topics= i\n",
        "  ldamodel = gensim.models.ldamodel.LdaModel(corpus, num_topics = num_topics, id2word=dictionary, passes=15)\n",
        "  ldamodel.save(f'model{i}_test.gensim')\n"
      ],
      "execution_count": null,
      "outputs": []
    },
    {
      "cell_type": "code",
      "metadata": {
        "id": "JkP7KnE4giNs",
        "colab_type": "code",
        "colab": {}
      },
      "source": [
        "lda3= gensim.models.ldamodel.LdaModel.load('model3.gensim')\n",
        "lda5= gensim.models.ldamodel.LdaModel.load('model5.gensim')\n",
        "lda10= gensim.models.ldamodel.LdaModel.load('model10.gensim')\n",
        "lda15= gensim.models.ldamodel.LdaModel.load('model15.gensim')\n",
        "lda25= gensim.models.ldamodel.LdaModel.load('model25.gensim')\n",
        "lda30= gensim.models.ldamodel.LdaModel.load('model30.gensim')"
      ],
      "execution_count": null,
      "outputs": []
    },
    {
      "cell_type": "code",
      "metadata": {
        "id": "W12qy5oUgiLD",
        "colab_type": "code",
        "colab": {}
      },
      "source": [
        "#calculating c_v coherence score for each model\n",
        "coherence_score= []\n",
        "cm_model= [lda3,lda5,lda10,lda15,lda25,lda30]\n",
        "for i in range(len(cm_model)):\n",
        "  cm= CoherenceModel(model=cm_model[i],texts=text,corpus=corpus,dictionary=dictionary,coherence='c_v',topn=15)\n",
        "  cv= cm.get_coherence()\n",
        "  coherence_score.append(cv)"
      ],
      "execution_count": null,
      "outputs": []
    },
    {
      "cell_type": "code",
      "metadata": {
        "id": "fYT0zZTdgiIg",
        "colab_type": "code",
        "colab": {
          "base_uri": "https://localhost:8080/",
          "height": 312
        },
        "outputId": "cf59ee64-c703-445e-9a70-4a724f442a5c"
      },
      "source": [
        "#plotting K vs C_v \n",
        "\n",
        "plt.plot([3,5,10,15,25,30],coherence_score)\n",
        "plt.title('Number of Topics (K) v.s Coherence (C_v)')\n",
        "plt.xlabel('Number of topics')\n",
        "plt.ylabel('C_v')\n",
        "plt.legend(('c_v'), loc='best')"
      ],
      "execution_count": null,
      "outputs": [
        {
          "output_type": "execute_result",
          "data": {
            "text/plain": [
              "<matplotlib.legend.Legend at 0x7fcdcddadeb8>"
            ]
          },
          "metadata": {
            "tags": []
          },
          "execution_count": 34
        },
        {
          "output_type": "display_data",
          "data": {
            "image/png": "[encoded data removed]",
            "text/plain": [
              "<Figure size 432x288 with 1 Axes>"
            ]
          },
          "metadata": {
            "tags": [],
            "needs_background": "light"
          }
        }
      ]
    },
    {
      "cell_type": "code",
      "metadata": {
        "id": "-ha_qogqvA2K",
        "colab_type": "code",
        "colab": {}
      },
      "source": [
        ""
      ],
      "execution_count": null,
      "outputs": []
    }
  ]
}